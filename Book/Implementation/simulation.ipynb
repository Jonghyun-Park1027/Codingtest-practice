{
 "cells": [
  {
   "cell_type": "code",
   "execution_count": 18,
   "outputs": [
    {
     "name": "stdout",
     "output_type": "stream",
     "text": [
      "98\n",
      "3\n"
     ]
    }
   ],
   "source": [
    "# 시간초과(20분)\n",
    "string, number = list(input())\n",
    "print(ord(string))\n",
    "row = \"12345678\"\n",
    "col = \"abcdefgh\"\n",
    "index_row = row.find(number) +1\n",
    "index_col = col.find(string)+1\n",
    "\n",
    "count = 0\n",
    "moving = [[-2,1],[-2,-1],[2,-1],[2,1],[-1,2],[1,2],[-1,-2],[1,-2]]\n",
    "\n",
    "for i in range(8):\n",
    "    if 8>= index_row - moving[i][0] >= 1 and 8>= index_col - moving[i][1] >= 1:\n",
    "        count += 1\n",
    "print(count)"
   ],
   "metadata": {
    "collapsed": false,
    "pycharm": {
     "name": "#%%\n"
    }
   }
  },
  {
   "cell_type": "code",
   "execution_count": null,
   "outputs": [],
   "source": [],
   "metadata": {
    "collapsed": false,
    "pycharm": {
     "name": "#%%\n"
    }
   }
  }
 ],
 "metadata": {
  "kernelspec": {
   "display_name": "Python 3",
   "language": "python",
   "name": "python3"
  },
  "language_info": {
   "codemirror_mode": {
    "name": "ipython",
    "version": 2
   },
   "file_extension": ".py",
   "mimetype": "text/x-python",
   "name": "python",
   "nbconvert_exporter": "python",
   "pygments_lexer": "ipython2",
   "version": "2.7.6"
  }
 },
 "nbformat": 4,
 "nbformat_minor": 0
}